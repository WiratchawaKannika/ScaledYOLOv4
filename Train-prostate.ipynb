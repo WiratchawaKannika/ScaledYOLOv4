{
 "cells": [
  {
   "cell_type": "code",
   "execution_count": 1,
   "id": "4923d6a2",
   "metadata": {},
   "outputs": [
    {
     "name": "stdout",
     "output_type": "stream",
     "text": [
      "Using torch 1.9.0+cu111 _CudaDeviceProperties(name='NVIDIA GeForce RTX 2080 Ti', major=7, minor=5, total_memory=11019MB, multi_processor_count=68)\n"
     ]
    }
   ],
   "source": [
    "import torch\n",
    "print('Using torch %s %s' % (torch.__version__, torch.cuda.get_device_properties(0) if torch.cuda.is_available() else 'CPU'))"
   ]
  },
  {
   "cell_type": "markdown",
   "id": "c86cb34e",
   "metadata": {},
   "source": [
    "## Training"
   ]
  },
  {
   "cell_type": "code",
   "execution_count": null,
   "id": "373a57cc",
   "metadata": {},
   "outputs": [],
   "source": [
    "# yolov4-p5\n",
    "python train.py --batch-size 8 --epochs 100 --img 896 896 --data data/Prostate-origin-train.yaml --cfg models/yolov4-p5.yaml --single-cls --weights 'weights/yolov4-p5.pt' --sync-bn --device 0,1 --name yolov4-p5-results\n",
    "python -m torch.distributed.launch --nproc_per_node 4 train.py --batch-size 64 --img 896 896 --data coco.yaml --cfg yolov4-p5.yaml --weights 'runs/exp0_yolov4-p5/weights/last_298.pt' --sync-bn --device 0,1,2,3 --name yolov4-p5-tune --hyp 'data/hyp.finetune.yaml' --epochs 450 --resume"
   ]
  },
  {
   "cell_type": "markdown",
   "id": "c1dd2959",
   "metadata": {},
   "source": [
    "> ## Prosmise12 dataset"
   ]
  },
  {
   "cell_type": "markdown",
   "id": "e29ba038",
   "metadata": {},
   "source": [
    "> ### P5"
   ]
  },
  {
   "cell_type": "code",
   "execution_count": null,
   "id": "6743dae9",
   "metadata": {},
   "outputs": [],
   "source": [
    "python train.py --batch-size 8 --epochs 400 --img 640 --data Prosmise12-origin-train.yaml --cfg models/yolov4-p5.yaml --single-cls --weights 'weights/yolov4-p5.pt' --sync-bn --device 0,1 --logdir /media/tohn/SSD/YOLOv4/model_p5_prosmise12_only --name yolov4-p5-prosmise12-results"
   ]
  },
  {
   "cell_type": "markdown",
   "id": "ff0f060e",
   "metadata": {},
   "source": [
    "> ### P7"
   ]
  },
  {
   "cell_type": "code",
   "execution_count": null,
   "id": "74018633",
   "metadata": {},
   "outputs": [],
   "source": [
    "python train.py --batch-size 8 --epochs 400 --img 640 --data Prosmise12-origin-train.yaml --cfg models/yolov4-p7.yaml --single-cls --weights 'weights/yolov4-p7.pt' --sync-bn --device 0,1 --logdir /media/tohn/SSD/YOLOv4/model_p7_prosmise12_only--name yolov4-p7-prosmise12-results"
   ]
  },
  {
   "cell_type": "markdown",
   "id": "cbae2505",
   "metadata": {},
   "source": [
    "> ### P6"
   ]
  },
  {
   "cell_type": "code",
   "execution_count": null,
   "id": "50eda4f2",
   "metadata": {},
   "outputs": [],
   "source": [
    "python train.py --batch-size 8 --epochs 400 --img 640 --data Prosmise12-origin-train.yaml --cfg models/yolov4-p6.yaml --single-cls --weights 'weights/yolov4-p6.pt' --sync-bn --device 0,1 --logdir /media/tohn/SSD/YOLOv4/model_p6_prosmise12_only --name yolov4-p6-prosmise12-results"
   ]
  },
  {
   "cell_type": "markdown",
   "id": "c4ab8173",
   "metadata": {},
   "source": [
    "> ## Prostate + Prosmise12StyleProstate dataset"
   ]
  },
  {
   "cell_type": "markdown",
   "id": "d5c9dc8e",
   "metadata": {},
   "source": [
    "> ### P7"
   ]
  },
  {
   "cell_type": "code",
   "execution_count": null,
   "id": "97789330",
   "metadata": {},
   "outputs": [],
   "source": [
    "python train.py --batch-size 8 --epochs 400 --img 640 --data Prostate-Prosmise12StyleProstate-train.yaml --cfg models/yolov4-p7.yaml --single-cls --weights 'weights/yolov4-p7.pt' --sync-bn --device 0,1 --logdir /media/tohn/SSD/YOLOv4/model_p7_Prostate_Prosmise12StyleProstate --name yolov4-p7-Prostate_Prosmise12StyleProstate"
   ]
  },
  {
   "cell_type": "code",
   "execution_count": null,
   "id": "1b60d7ec",
   "metadata": {},
   "outputs": [],
   "source": []
  },
  {
   "cell_type": "code",
   "execution_count": null,
   "id": "72733b54",
   "metadata": {},
   "outputs": [],
   "source": []
  },
  {
   "cell_type": "code",
   "execution_count": null,
   "id": "19f8b6da",
   "metadata": {},
   "outputs": [],
   "source": []
  },
  {
   "cell_type": "code",
   "execution_count": null,
   "id": "6814a6ca",
   "metadata": {},
   "outputs": [],
   "source": []
  },
  {
   "cell_type": "code",
   "execution_count": null,
   "id": "8fd55e4a",
   "metadata": {},
   "outputs": [],
   "source": []
  },
  {
   "cell_type": "code",
   "execution_count": null,
   "id": "aa56c869",
   "metadata": {},
   "outputs": [],
   "source": []
  },
  {
   "cell_type": "code",
   "execution_count": null,
   "id": "4d4ee4e2",
   "metadata": {},
   "outputs": [],
   "source": []
  },
  {
   "cell_type": "code",
   "execution_count": null,
   "id": "e92754a4",
   "metadata": {},
   "outputs": [],
   "source": []
  }
 ],
 "metadata": {
  "kernelspec": {
   "display_name": "yolo4",
   "language": "python",
   "name": "yolo4"
  },
  "language_info": {
   "codemirror_mode": {
    "name": "ipython",
    "version": 3
   },
   "file_extension": ".py",
   "mimetype": "text/x-python",
   "name": "python",
   "nbconvert_exporter": "python",
   "pygments_lexer": "ipython3",
   "version": "3.6.13"
  }
 },
 "nbformat": 4,
 "nbformat_minor": 5
}
